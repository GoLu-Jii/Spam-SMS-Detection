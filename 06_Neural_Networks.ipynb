{
 "cells": [
  {
   "cell_type": "markdown",
   "id": "dca1f93b-f47e-4a58-b9c3-5417424b0285",
   "metadata": {},
   "source": [
    "# Import libraries"
   ]
  },
  {
   "cell_type": "code",
   "execution_count": 154,
   "id": "7aab02f6-ac89-415f-84c0-f2096d8db064",
   "metadata": {},
   "outputs": [],
   "source": [
    "import tensorflow as tf\n",
    "import pandas as pd \n",
    "import numpy as np\n",
    "import matplotlib.pyplot as plt\n",
    "import re\n",
    "import string\n",
    "from tensorflow.keras.preprocessing.text import Tokenizer\n",
    "from tensorflow.keras.preprocessing.sequence import pad_sequences\n",
    "from sklearn.model_selection import train_test_split\n",
    "from tensorflow.keras.preprocessing.sequence import pad_sequences\n"
   ]
  },
  {
   "cell_type": "markdown",
   "id": "193acfd7-8917-4fdb-8bf5-e3a71d40c11b",
   "metadata": {},
   "source": [
    "# load the data"
   ]
  },
  {
   "cell_type": "code",
   "execution_count": 155,
   "id": "f5af2cce-44fe-4169-bf4e-783c2e675a39",
   "metadata": {},
   "outputs": [
    {
     "data": {
      "text/html": [
       "<div>\n",
       "<style scoped>\n",
       "    .dataframe tbody tr th:only-of-type {\n",
       "        vertical-align: middle;\n",
       "    }\n",
       "\n",
       "    .dataframe tbody tr th {\n",
       "        vertical-align: top;\n",
       "    }\n",
       "\n",
       "    .dataframe thead th {\n",
       "        text-align: right;\n",
       "    }\n",
       "</style>\n",
       "<table border=\"1\" class=\"dataframe\">\n",
       "  <thead>\n",
       "    <tr style=\"text-align: right;\">\n",
       "      <th></th>\n",
       "      <th>v1</th>\n",
       "      <th>v2</th>\n",
       "    </tr>\n",
       "  </thead>\n",
       "  <tbody>\n",
       "    <tr>\n",
       "      <th>0</th>\n",
       "      <td>ham</td>\n",
       "      <td>Go until jurong point, crazy.. Available only ...</td>\n",
       "    </tr>\n",
       "    <tr>\n",
       "      <th>1</th>\n",
       "      <td>ham</td>\n",
       "      <td>Ok lar... Joking wif u oni...</td>\n",
       "    </tr>\n",
       "    <tr>\n",
       "      <th>2</th>\n",
       "      <td>spam</td>\n",
       "      <td>Free entry in 2 a wkly comp to win FA Cup fina...</td>\n",
       "    </tr>\n",
       "    <tr>\n",
       "      <th>3</th>\n",
       "      <td>ham</td>\n",
       "      <td>U dun say so early hor... U c already then say...</td>\n",
       "    </tr>\n",
       "    <tr>\n",
       "      <th>4</th>\n",
       "      <td>ham</td>\n",
       "      <td>Nah I don't think he goes to usf, he lives aro...</td>\n",
       "    </tr>\n",
       "  </tbody>\n",
       "</table>\n",
       "</div>"
      ],
      "text/plain": [
       "     v1                                                 v2\n",
       "0   ham  Go until jurong point, crazy.. Available only ...\n",
       "1   ham                      Ok lar... Joking wif u oni...\n",
       "2  spam  Free entry in 2 a wkly comp to win FA Cup fina...\n",
       "3   ham  U dun say so early hor... U c already then say...\n",
       "4   ham  Nah I don't think he goes to usf, he lives aro..."
      ]
     },
     "execution_count": 155,
     "metadata": {},
     "output_type": "execute_result"
    }
   ],
   "source": [
    "data = pd.read_csv('spam.csv', encoding='latin1')[['v1', 'v2']]\n",
    "data.head()"
   ]
  },
  {
   "cell_type": "markdown",
   "id": "e6e2ce4c-a428-463e-85fb-346895cf1cc0",
   "metadata": {},
   "source": [
    "## daownsampling  ham count to match spam count "
   ]
  },
  {
   "cell_type": "code",
   "execution_count": 156,
   "id": "ae9422ad-be16-443b-b499-fb3032376658",
   "metadata": {},
   "outputs": [],
   "source": [
    "ham_df = data[data['v1'] == 'ham']\n",
    "spam_df = data[data['v1'] == 'spam']\n",
    "\n",
    "ham_downsampled = ham_df.sample(len(spam_df), random_state=42)\n",
    "\n",
    "# Combine\n",
    "balanced_df = pd.concat([ham_downsampled, spam_df]).sample(frac=1, random_state=42).reset_index(drop=True)\n"
   ]
  },
  {
   "cell_type": "code",
   "execution_count": 157,
   "id": "67cd4d3e-e228-4a5b-8f93-4278a4b83c85",
   "metadata": {},
   "outputs": [
    {
     "data": {
      "text/plain": [
       "v1\n",
       "spam    747\n",
       "ham     747\n",
       "Name: count, dtype: int64"
      ]
     },
     "execution_count": 157,
     "metadata": {},
     "output_type": "execute_result"
    }
   ],
   "source": [
    "balanced_df['v1'].value_counts()"
   ]
  },
  {
   "cell_type": "markdown",
   "id": "03d30573-010a-4f9a-a1a4-8dccdb273d21",
   "metadata": {},
   "source": [
    "#### Text cleaning "
   ]
  },
  {
   "cell_type": "code",
   "execution_count": 158,
   "id": "5598f314-ceb8-4b05-897d-1c08068ef546",
   "metadata": {},
   "outputs": [],
   "source": [
    "# import re\n",
    "# import string\n",
    "\n",
    "def clean_text(text):\n",
    "    # 1. Lowercase\n",
    "    text = text.lower()\n",
    "    \n",
    "    # 2. Remove numbers\n",
    "    text = re.sub(r'\\d+', '', text)\n",
    "    \n",
    "    # 3. Remove punctuation\n",
    "    text = text.translate(str.maketrans('', '', string.punctuation))\n",
    "    \n",
    "    # 4. Remove extra whitespace\n",
    "    text = re.sub(r'\\s+', ' ', text).strip()\n",
    "    \n",
    "    return text\n"
   ]
  },
  {
   "cell_type": "code",
   "execution_count": 159,
   "id": "f072e3da-b46c-47ed-8aa9-9565ebe684ca",
   "metadata": {},
   "outputs": [
    {
     "data": {
      "text/html": [
       "<div>\n",
       "<style scoped>\n",
       "    .dataframe tbody tr th:only-of-type {\n",
       "        vertical-align: middle;\n",
       "    }\n",
       "\n",
       "    .dataframe tbody tr th {\n",
       "        vertical-align: top;\n",
       "    }\n",
       "\n",
       "    .dataframe thead th {\n",
       "        text-align: right;\n",
       "    }\n",
       "</style>\n",
       "<table border=\"1\" class=\"dataframe\">\n",
       "  <thead>\n",
       "    <tr style=\"text-align: right;\">\n",
       "      <th></th>\n",
       "      <th>v1</th>\n",
       "      <th>v2</th>\n",
       "      <th>clean_text</th>\n",
       "    </tr>\n",
       "  </thead>\n",
       "  <tbody>\n",
       "    <tr>\n",
       "      <th>0</th>\n",
       "      <td>spam</td>\n",
       "      <td>URGENT, IMPORTANT INFORMATION FOR O2 USER. TOD...</td>\n",
       "      <td>urgent important information for o user today ...</td>\n",
       "    </tr>\n",
       "    <tr>\n",
       "      <th>1</th>\n",
       "      <td>spam</td>\n",
       "      <td>Panasonic &amp; BluetoothHdset FREE. Nokia FREE. M...</td>\n",
       "      <td>panasonic bluetoothhdset free nokia free motor...</td>\n",
       "    </tr>\n",
       "    <tr>\n",
       "      <th>2</th>\n",
       "      <td>spam</td>\n",
       "      <td>Do you want a new Video handset? 750 any time ...</td>\n",
       "      <td>do you want a new video handset any time any n...</td>\n",
       "    </tr>\n",
       "    <tr>\n",
       "      <th>3</th>\n",
       "      <td>spam</td>\n",
       "      <td>Hi if ur lookin 4 saucy daytime fun wiv busty ...</td>\n",
       "      <td>hi if ur lookin saucy daytime fun wiv busty ma...</td>\n",
       "    </tr>\n",
       "    <tr>\n",
       "      <th>4</th>\n",
       "      <td>spam</td>\n",
       "      <td>09066362231 URGENT! Your mobile No 07xxxxxxxxx...</td>\n",
       "      <td>urgent your mobile no xxxxxxxxx won a å£ bonus...</td>\n",
       "    </tr>\n",
       "  </tbody>\n",
       "</table>\n",
       "</div>"
      ],
      "text/plain": [
       "     v1                                                 v2  \\\n",
       "0  spam  URGENT, IMPORTANT INFORMATION FOR O2 USER. TOD...   \n",
       "1  spam  Panasonic & BluetoothHdset FREE. Nokia FREE. M...   \n",
       "2  spam  Do you want a new Video handset? 750 any time ...   \n",
       "3  spam  Hi if ur lookin 4 saucy daytime fun wiv busty ...   \n",
       "4  spam  09066362231 URGENT! Your mobile No 07xxxxxxxxx...   \n",
       "\n",
       "                                          clean_text  \n",
       "0  urgent important information for o user today ...  \n",
       "1  panasonic bluetoothhdset free nokia free motor...  \n",
       "2  do you want a new video handset any time any n...  \n",
       "3  hi if ur lookin saucy daytime fun wiv busty ma...  \n",
       "4  urgent your mobile no xxxxxxxxx won a å£ bonus...  "
      ]
     },
     "execution_count": 159,
     "metadata": {},
     "output_type": "execute_result"
    }
   ],
   "source": [
    "balanced_df['clean_text'] = balanced_df['v2'].apply(clean_text)\n",
    "balanced_df.head()"
   ]
  },
  {
   "cell_type": "markdown",
   "id": "3561ee4f-990a-4ac5-9b83-787f2ab70fb6",
   "metadata": {},
   "source": [
    "#### encoding and padding "
   ]
  },
  {
   "cell_type": "code",
   "execution_count": 160,
   "id": "84e319f0-f985-48b7-a68e-1fb3cf80687c",
   "metadata": {},
   "outputs": [],
   "source": [
    "# from tensorflow.keras.preprocessing.text import Tokenizer\n",
    "# from tensorflow.keras.preprocessing.sequence import pad_sequences\n",
    "\n",
    "# tokenizer\n",
    "tokenizer = Tokenizer(num_words=5000, oov_token=\"<OOV>\")  \n",
    "tokenizer.fit_on_texts(balanced_df['clean_text'])  \n",
    "\n",
    "sequences = tokenizer.texts_to_sequences(balanced_df['clean_text'])\n",
    "\n",
    "# padding\n",
    "padded = pad_sequences(sequences, maxlen=100, padding='post')\n"
   ]
  },
  {
   "cell_type": "markdown",
   "id": "e054dec4-fccc-4c85-86e2-49a6beb3306b",
   "metadata": {},
   "source": [
    "## Final DataSet"
   ]
  },
  {
   "cell_type": "code",
   "execution_count": 163,
   "id": "b9495e4c-d292-4310-a40b-b78b5f6daa4f",
   "metadata": {},
   "outputs": [],
   "source": [
    "balanced_df['label_encoded'] = balanced_df['v1'].map({'ham': 0, 'spam': 1})"
   ]
  },
  {
   "cell_type": "code",
   "execution_count": 164,
   "id": "690be5ec-7c36-4d30-89be-6ccdd049ed97",
   "metadata": {},
   "outputs": [
    {
     "data": {
      "text/html": [
       "<div>\n",
       "<style scoped>\n",
       "    .dataframe tbody tr th:only-of-type {\n",
       "        vertical-align: middle;\n",
       "    }\n",
       "\n",
       "    .dataframe tbody tr th {\n",
       "        vertical-align: top;\n",
       "    }\n",
       "\n",
       "    .dataframe thead th {\n",
       "        text-align: right;\n",
       "    }\n",
       "</style>\n",
       "<table border=\"1\" class=\"dataframe\">\n",
       "  <thead>\n",
       "    <tr style=\"text-align: right;\">\n",
       "      <th></th>\n",
       "      <th>v1</th>\n",
       "      <th>v2</th>\n",
       "      <th>clean_text</th>\n",
       "      <th>label_encoded</th>\n",
       "    </tr>\n",
       "  </thead>\n",
       "  <tbody>\n",
       "    <tr>\n",
       "      <th>0</th>\n",
       "      <td>spam</td>\n",
       "      <td>URGENT, IMPORTANT INFORMATION FOR O2 USER. TOD...</td>\n",
       "      <td>urgent important information for o user today ...</td>\n",
       "      <td>1</td>\n",
       "    </tr>\n",
       "    <tr>\n",
       "      <th>1</th>\n",
       "      <td>spam</td>\n",
       "      <td>Panasonic &amp; BluetoothHdset FREE. Nokia FREE. M...</td>\n",
       "      <td>panasonic bluetoothhdset free nokia free motor...</td>\n",
       "      <td>1</td>\n",
       "    </tr>\n",
       "    <tr>\n",
       "      <th>2</th>\n",
       "      <td>spam</td>\n",
       "      <td>Do you want a new Video handset? 750 any time ...</td>\n",
       "      <td>do you want a new video handset any time any n...</td>\n",
       "      <td>1</td>\n",
       "    </tr>\n",
       "    <tr>\n",
       "      <th>3</th>\n",
       "      <td>spam</td>\n",
       "      <td>Hi if ur lookin 4 saucy daytime fun wiv busty ...</td>\n",
       "      <td>hi if ur lookin saucy daytime fun wiv busty ma...</td>\n",
       "      <td>1</td>\n",
       "    </tr>\n",
       "    <tr>\n",
       "      <th>4</th>\n",
       "      <td>spam</td>\n",
       "      <td>09066362231 URGENT! Your mobile No 07xxxxxxxxx...</td>\n",
       "      <td>urgent your mobile no xxxxxxxxx won a å£ bonus...</td>\n",
       "      <td>1</td>\n",
       "    </tr>\n",
       "  </tbody>\n",
       "</table>\n",
       "</div>"
      ],
      "text/plain": [
       "     v1                                                 v2  \\\n",
       "0  spam  URGENT, IMPORTANT INFORMATION FOR O2 USER. TOD...   \n",
       "1  spam  Panasonic & BluetoothHdset FREE. Nokia FREE. M...   \n",
       "2  spam  Do you want a new Video handset? 750 any time ...   \n",
       "3  spam  Hi if ur lookin 4 saucy daytime fun wiv busty ...   \n",
       "4  spam  09066362231 URGENT! Your mobile No 07xxxxxxxxx...   \n",
       "\n",
       "                                          clean_text  label_encoded  \n",
       "0  urgent important information for o user today ...              1  \n",
       "1  panasonic bluetoothhdset free nokia free motor...              1  \n",
       "2  do you want a new video handset any time any n...              1  \n",
       "3  hi if ur lookin saucy daytime fun wiv busty ma...              1  \n",
       "4  urgent your mobile no xxxxxxxxx won a å£ bonus...              1  "
      ]
     },
     "execution_count": 164,
     "metadata": {},
     "output_type": "execute_result"
    }
   ],
   "source": [
    "balanced_df.head()"
   ]
  },
  {
   "cell_type": "markdown",
   "id": "c6db7ad5-4c3f-4e23-bae1-ec01a99b897d",
   "metadata": {},
   "source": [
    "## BUILD MODEL"
   ]
  },
  {
   "cell_type": "code",
   "execution_count": 165,
   "id": "1a6d6870-7085-4de7-b912-2ba8c90413b1",
   "metadata": {},
   "outputs": [
    {
     "name": "stderr",
     "output_type": "stream",
     "text": [
      "C:\\Users\\gaura\\AppData\\Local\\Programs\\Python\\Python312\\Lib\\site-packages\\keras\\src\\layers\\core\\embedding.py:97: UserWarning: Argument `input_length` is deprecated. Just remove it.\n",
      "  warnings.warn(\n"
     ]
    }
   ],
   "source": [
    "model = tf.keras.Sequential([\n",
    "    tf.keras.layers.Embedding(input_dim=5000, output_dim=16, input_length=100),\n",
    "    tf.keras.layers.GlobalAveragePooling1D(),\n",
    "    tf.keras.layers.Dense(units = 24, activation = 'relu'),\n",
    "    tf.keras.layers.Dense(units = 12, activation = 'relu'), \n",
    "    tf.keras.layers.Dense(units = 1, activation = 'sigmoid')\n",
    "])"
   ]
  },
  {
   "cell_type": "markdown",
   "id": "6508798f-5105-4656-b26e-8e24b80d0fa6",
   "metadata": {},
   "source": [
    "#### compile"
   ]
  },
  {
   "cell_type": "code",
   "execution_count": 166,
   "id": "2acd782c-a926-4527-95b7-455064e3a77d",
   "metadata": {},
   "outputs": [],
   "source": [
    "model.compile(\n",
    "    optimizer = tf.keras.optimizers.Adam(learning_rate = 1e-3),\n",
    "    loss = tf.keras.losses.BinaryCrossentropy(from_logits = False),\n",
    "    metrics=['accuracy']\n",
    ")"
   ]
  },
  {
   "cell_type": "markdown",
   "id": "9043b187-5e03-4ac2-9684-74b444f80856",
   "metadata": {},
   "source": [
    "#### Fit"
   ]
  },
  {
   "cell_type": "code",
   "execution_count": 167,
   "id": "834afa63-33f3-422f-b208-466f6cb8cf6a",
   "metadata": {},
   "outputs": [
    {
     "name": "stdout",
     "output_type": "stream",
     "text": [
      "Epoch 1/25\n",
      "\u001b[1m38/38\u001b[0m \u001b[32m━━━━━━━━━━━━━━━━━━━━\u001b[0m\u001b[37m\u001b[0m \u001b[1m1s\u001b[0m 6ms/step - accuracy: 0.5133 - loss: 0.6928 - val_accuracy: 0.8662 - val_loss: 0.6888\n",
      "Epoch 2/25\n",
      "\u001b[1m38/38\u001b[0m \u001b[32m━━━━━━━━━━━━━━━━━━━━\u001b[0m\u001b[37m\u001b[0m \u001b[1m0s\u001b[0m 3ms/step - accuracy: 0.5835 - loss: 0.6870 - val_accuracy: 0.5552 - val_loss: 0.6778\n",
      "Epoch 3/25\n",
      "\u001b[1m38/38\u001b[0m \u001b[32m━━━━━━━━━━━━━━━━━━━━\u001b[0m\u001b[37m\u001b[0m \u001b[1m0s\u001b[0m 3ms/step - accuracy: 0.6158 - loss: 0.6761 - val_accuracy: 0.8428 - val_loss: 0.6579\n",
      "Epoch 4/25\n",
      "\u001b[1m38/38\u001b[0m \u001b[32m━━━━━━━━━━━━━━━━━━━━\u001b[0m\u001b[37m\u001b[0m \u001b[1m0s\u001b[0m 4ms/step - accuracy: 0.7926 - loss: 0.6494 - val_accuracy: 0.9097 - val_loss: 0.6120\n",
      "Epoch 5/25\n",
      "\u001b[1m38/38\u001b[0m \u001b[32m━━━━━━━━━━━━━━━━━━━━\u001b[0m\u001b[37m\u001b[0m \u001b[1m0s\u001b[0m 3ms/step - accuracy: 0.8907 - loss: 0.5822 - val_accuracy: 0.8763 - val_loss: 0.5050\n",
      "Epoch 6/25\n",
      "\u001b[1m38/38\u001b[0m \u001b[32m━━━━━━━━━━━━━━━━━━━━\u001b[0m\u001b[37m\u001b[0m \u001b[1m0s\u001b[0m 3ms/step - accuracy: 0.9222 - loss: 0.4630 - val_accuracy: 0.9231 - val_loss: 0.3797\n",
      "Epoch 7/25\n",
      "\u001b[1m38/38\u001b[0m \u001b[32m━━━━━━━━━━━━━━━━━━━━\u001b[0m\u001b[37m\u001b[0m \u001b[1m0s\u001b[0m 3ms/step - accuracy: 0.9447 - loss: 0.3322 - val_accuracy: 0.9264 - val_loss: 0.2836\n",
      "Epoch 8/25\n",
      "\u001b[1m38/38\u001b[0m \u001b[32m━━━━━━━━━━━━━━━━━━━━\u001b[0m\u001b[37m\u001b[0m \u001b[1m0s\u001b[0m 3ms/step - accuracy: 0.9506 - loss: 0.2338 - val_accuracy: 0.9164 - val_loss: 0.2529\n",
      "Epoch 9/25\n",
      "\u001b[1m38/38\u001b[0m \u001b[32m━━━━━━━━━━━━━━━━━━━━\u001b[0m\u001b[37m\u001b[0m \u001b[1m0s\u001b[0m 3ms/step - accuracy: 0.9450 - loss: 0.2031 - val_accuracy: 0.9264 - val_loss: 0.2099\n",
      "Epoch 10/25\n",
      "\u001b[1m38/38\u001b[0m \u001b[32m━━━━━━━━━━━━━━━━━━━━\u001b[0m\u001b[37m\u001b[0m \u001b[1m0s\u001b[0m 3ms/step - accuracy: 0.9341 - loss: 0.1786 - val_accuracy: 0.9197 - val_loss: 0.2001\n",
      "Epoch 11/25\n",
      "\u001b[1m38/38\u001b[0m \u001b[32m━━━━━━━━━━━━━━━━━━━━\u001b[0m\u001b[37m\u001b[0m \u001b[1m0s\u001b[0m 3ms/step - accuracy: 0.9658 - loss: 0.1394 - val_accuracy: 0.9298 - val_loss: 0.1844\n",
      "Epoch 12/25\n",
      "\u001b[1m38/38\u001b[0m \u001b[32m━━━━━━━━━━━━━━━━━━━━\u001b[0m\u001b[37m\u001b[0m \u001b[1m0s\u001b[0m 3ms/step - accuracy: 0.9642 - loss: 0.1325 - val_accuracy: 0.9365 - val_loss: 0.1759\n",
      "Epoch 13/25\n",
      "\u001b[1m38/38\u001b[0m \u001b[32m━━━━━━━━━━━━━━━━━━━━\u001b[0m\u001b[37m\u001b[0m \u001b[1m0s\u001b[0m 3ms/step - accuracy: 0.9611 - loss: 0.1074 - val_accuracy: 0.9431 - val_loss: 0.1664\n",
      "Epoch 14/25\n",
      "\u001b[1m38/38\u001b[0m \u001b[32m━━━━━━━━━━━━━━━━━━━━\u001b[0m\u001b[37m\u001b[0m \u001b[1m0s\u001b[0m 3ms/step - accuracy: 0.9669 - loss: 0.0930 - val_accuracy: 0.9130 - val_loss: 0.2000\n",
      "Epoch 15/25\n",
      "\u001b[1m38/38\u001b[0m \u001b[32m━━━━━━━━━━━━━━━━━━━━\u001b[0m\u001b[37m\u001b[0m \u001b[1m0s\u001b[0m 3ms/step - accuracy: 0.9661 - loss: 0.0974 - val_accuracy: 0.9398 - val_loss: 0.1624\n",
      "Epoch 16/25\n",
      "\u001b[1m38/38\u001b[0m \u001b[32m━━━━━━━━━━━━━━━━━━━━\u001b[0m\u001b[37m\u001b[0m \u001b[1m0s\u001b[0m 3ms/step - accuracy: 0.9791 - loss: 0.0841 - val_accuracy: 0.9431 - val_loss: 0.1612\n",
      "Epoch 17/25\n",
      "\u001b[1m38/38\u001b[0m \u001b[32m━━━━━━━━━━━━━━━━━━━━\u001b[0m\u001b[37m\u001b[0m \u001b[1m0s\u001b[0m 3ms/step - accuracy: 0.9818 - loss: 0.0598 - val_accuracy: 0.9431 - val_loss: 0.1663\n",
      "Epoch 18/25\n",
      "\u001b[1m38/38\u001b[0m \u001b[32m━━━━━━━━━━━━━━━━━━━━\u001b[0m\u001b[37m\u001b[0m \u001b[1m0s\u001b[0m 3ms/step - accuracy: 0.9793 - loss: 0.0676 - val_accuracy: 0.9465 - val_loss: 0.1717\n",
      "Epoch 19/25\n",
      "\u001b[1m38/38\u001b[0m \u001b[32m━━━━━━━━━━━━━━━━━━━━\u001b[0m\u001b[37m\u001b[0m \u001b[1m0s\u001b[0m 3ms/step - accuracy: 0.9742 - loss: 0.0799 - val_accuracy: 0.9431 - val_loss: 0.1635\n",
      "Epoch 20/25\n",
      "\u001b[1m38/38\u001b[0m \u001b[32m━━━━━━━━━━━━━━━━━━━━\u001b[0m\u001b[37m\u001b[0m \u001b[1m0s\u001b[0m 3ms/step - accuracy: 0.9759 - loss: 0.0569 - val_accuracy: 0.9465 - val_loss: 0.1699\n",
      "Epoch 21/25\n",
      "\u001b[1m38/38\u001b[0m \u001b[32m━━━━━━━━━━━━━━━━━━━━\u001b[0m\u001b[37m\u001b[0m \u001b[1m0s\u001b[0m 3ms/step - accuracy: 0.9842 - loss: 0.0609 - val_accuracy: 0.9431 - val_loss: 0.1505\n",
      "Epoch 22/25\n",
      "\u001b[1m38/38\u001b[0m \u001b[32m━━━━━━━━━━━━━━━━━━━━\u001b[0m\u001b[37m\u001b[0m \u001b[1m0s\u001b[0m 3ms/step - accuracy: 0.9819 - loss: 0.0610 - val_accuracy: 0.9130 - val_loss: 0.2009\n",
      "Epoch 23/25\n",
      "\u001b[1m38/38\u001b[0m \u001b[32m━━━━━━━━━━━━━━━━━━━━\u001b[0m\u001b[37m\u001b[0m \u001b[1m0s\u001b[0m 3ms/step - accuracy: 0.9806 - loss: 0.0582 - val_accuracy: 0.9431 - val_loss: 0.1490\n",
      "Epoch 24/25\n",
      "\u001b[1m38/38\u001b[0m \u001b[32m━━━━━━━━━━━━━━━━━━━━\u001b[0m\u001b[37m\u001b[0m \u001b[1m0s\u001b[0m 3ms/step - accuracy: 0.9886 - loss: 0.0425 - val_accuracy: 0.9532 - val_loss: 0.1536\n",
      "Epoch 25/25\n",
      "\u001b[1m38/38\u001b[0m \u001b[32m━━━━━━━━━━━━━━━━━━━━\u001b[0m\u001b[37m\u001b[0m \u001b[1m0s\u001b[0m 3ms/step - accuracy: 0.9909 - loss: 0.0457 - val_accuracy: 0.9532 - val_loss: 0.1646\n"
     ]
    },
    {
     "data": {
      "text/plain": [
       "<keras.src.callbacks.history.History at 0x1694fe1cda0>"
      ]
     },
     "execution_count": 167,
     "metadata": {},
     "output_type": "execute_result"
    }
   ],
   "source": [
    "# from sklearn.model_selection import train_test_split\n",
    "\n",
    "X_train, X_test, y_train, y_test = train_test_split(padded, balanced_df['label_encoded'], test_size=0.2, random_state=42)\n",
    "\n",
    "model.fit(X_train, y_train, epochs=25, validation_data=(X_test, y_test))"
   ]
  },
  {
   "cell_type": "markdown",
   "id": "27b54084-b382-4164-8fba-f06d7c568110",
   "metadata": {},
   "source": [
    "### Accuracy"
   ]
  },
  {
   "cell_type": "code",
   "execution_count": 173,
   "id": "aa1dfdb6-3b14-4453-a8e0-a13f19fd6641",
   "metadata": {},
   "outputs": [
    {
     "name": "stdout",
     "output_type": "stream",
     "text": [
      "\u001b[1m47/47\u001b[0m \u001b[32m━━━━━━━━━━━━━━━━━━━━\u001b[0m\u001b[37m\u001b[0m \u001b[1m0s\u001b[0m 1ms/step - accuracy: 0.9768 - loss: 0.0698 \n",
      "Accuracy: 97.46%\n"
     ]
    }
   ],
   "source": [
    "loss, accuracy = model.evaluate(padded, balanced_df['label_encoded'])\n",
    "print(f\"Accuracy: {accuracy*100:.2f}%\")"
   ]
  },
  {
   "cell_type": "markdown",
   "id": "dbd8f404-7d67-4ef2-846a-97ba0c20b6c2",
   "metadata": {},
   "source": [
    "## Accuracy: 97.46%"
   ]
  },
  {
   "cell_type": "markdown",
   "id": "7b5c7a44-b9d0-4a7f-9d50-6df2ffb1bc73",
   "metadata": {},
   "source": [
    "## using the model"
   ]
  },
  {
   "cell_type": "code",
   "execution_count": 144,
   "id": "47a7ed1f-f2b0-4fb4-bf20-daf5eea5313f",
   "metadata": {},
   "outputs": [],
   "source": [
    "# from tensorflow.keras.preprocessing.sequence import pad_sequences\n",
    "\n",
    "def predict_user_input():\n",
    "    text = input(\"📩 Enter a message to classify: \")\n",
    "\n",
    "    # Convert to sequence\n",
    "    sequence = tokenizer.texts_to_sequences([text])\n",
    "\n",
    "    # Pad it to match training size\n",
    "    padded_input = pad_sequences(sequence, maxlen=100, padding='post')\n",
    "\n",
    "    # Predict\n",
    "    prediction = model.predict(padded_input)[0][0]\n",
    "\n",
    "    # Show result\n",
    "    if prediction > 0.5:\n",
    "        print(\"🚨 Prediction: SPAM\")\n",
    "    else:\n",
    "        print(\"✅ Prediction: HAM (Not Spam)\")\n"
   ]
  },
  {
   "cell_type": "code",
   "execution_count": 171,
   "id": "6356956b-4a2b-49f7-b4d1-bd16fe54dbe0",
   "metadata": {},
   "outputs": [
    {
     "name": "stdin",
     "output_type": "stream",
     "text": [
      "📩 Enter a message to classify:  \"URGENT! Your account has been suspended. Login now to verify info: scamlink.com\"\n"
     ]
    },
    {
     "name": "stdout",
     "output_type": "stream",
     "text": [
      "\u001b[1m1/1\u001b[0m \u001b[32m━━━━━━━━━━━━━━━━━━━━\u001b[0m\u001b[37m\u001b[0m \u001b[1m0s\u001b[0m 29ms/step\n",
      "🚨 Prediction: SPAM\n"
     ]
    }
   ],
   "source": [
    "predict_user_input()"
   ]
  },
  {
   "cell_type": "code",
   "execution_count": 172,
   "id": "86548b6a-2380-4f73-839d-6b22900c82d8",
   "metadata": {},
   "outputs": [
    {
     "name": "stdin",
     "output_type": "stream",
     "text": [
      "📩 Enter a message to classify:  \"Don’t forget to bring your notes tomorrow!\"\n"
     ]
    },
    {
     "name": "stdout",
     "output_type": "stream",
     "text": [
      "\u001b[1m1/1\u001b[0m \u001b[32m━━━━━━━━━━━━━━━━━━━━\u001b[0m\u001b[37m\u001b[0m \u001b[1m0s\u001b[0m 32ms/step\n",
      "✅ Prediction: HAM (Not Spam)\n"
     ]
    }
   ],
   "source": [
    "predict_user_input()"
   ]
  },
  {
   "cell_type": "code",
   "execution_count": null,
   "id": "274159ed-dac7-470d-90e8-b10e092828da",
   "metadata": {},
   "outputs": [],
   "source": []
  }
 ],
 "metadata": {
  "kernelspec": {
   "display_name": "Python 3 (ipykernel)",
   "language": "python",
   "name": "python3"
  },
  "language_info": {
   "codemirror_mode": {
    "name": "ipython",
    "version": 3
   },
   "file_extension": ".py",
   "mimetype": "text/x-python",
   "name": "python",
   "nbconvert_exporter": "python",
   "pygments_lexer": "ipython3",
   "version": "3.12.0"
  }
 },
 "nbformat": 4,
 "nbformat_minor": 5
}
